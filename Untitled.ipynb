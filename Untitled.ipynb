{
 "cells": [
  {
   "cell_type": "code",
   "execution_count": 2,
   "metadata": {},
   "outputs": [],
   "source": [
    "import os"
   ]
  },
  {
   "cell_type": "code",
   "execution_count": 4,
   "metadata": {},
   "outputs": [
    {
     "name": "stdout",
     "output_type": "stream",
     "text": [
      "./Anees/\n",
      "[]\n",
      "['AdmsReport_190101.TXT', 'AdmsReport_190102.TXT', 'AdmsReport_190103.TXT', 'AdmsReport_190104.TXT', 'AdmsReport_190105.TXT', 'AdmsReport_190106.TXT', 'AdmsReport_190107.TXT', 'AdmsReport_190108.TXT', 'AdmsReport_190109.TXT', 'AdmsReport_190110.TXT', 'AdmsReport_190111.TXT', 'AdmsReport_190112.TXT', 'AdmsReport_190113.TXT', 'AdmsReport_190114.TXT', 'AdmsReport_190115.TXT', 'AdmsReport_190116.TXT', 'AdmsReport_190117.TXT', 'AdmsReport_190118.TXT', 'AdmsReport_190119.TXT', 'AdmsReport_190120.TXT', 'AdmsReport_190121.TXT', 'AdmsReport_190122.TXT', 'AdmsReport_190123.TXT', 'AdmsReport_190124.TXT', 'AdmsReport_190125.TXT', 'AdmsReport_190126.TXT', 'AdmsReport_190127.TXT', 'AdmsReport_190128.TXT', 'AdmsReport_190129.TXT', 'AdmsReport_190130.TXT', 'AdmsReport_190131.TXT']\n"
     ]
    }
   ],
   "source": [
    "for x, y, z in os.walk(\"./Anees/\"):\n",
    "    print(x)\n",
    "    print(y)\n",
    "    print(z)"
   ]
  },
  {
   "cell_type": "code",
   "execution_count": 3,
   "metadata": {},
   "outputs": [],
   "source": [
    "folder = ['AdmsReport_190101.TXT', 'AdmsReport_190102.TXT', 'AdmsReport_190103.TXT', 'AdmsReport_190104.TXT', 'AdmsReport_190105.TXT', 'AdmsReport_190106.TXT', 'AdmsReport_190107.TXT', 'AdmsReport_190108.TXT', 'AdmsReport_190109.TXT', 'AdmsReport_190110.TXT', 'AdmsReport_190111.TXT', 'AdmsReport_190112.TXT', 'AdmsReport_190113.TXT', 'AdmsReport_190114.TXT', 'AdmsReport_190115.TXT', 'AdmsReport_190116.TXT', 'AdmsReport_190117.TXT', 'AdmsReport_190118.TXT', 'AdmsReport_190119.TXT', 'AdmsReport_190120.TXT', 'AdmsReport_190121.TXT', 'AdmsReport_190122.TXT', 'AdmsReport_190123.TXT', 'AdmsReport_190124.TXT', 'AdmsReport_190125.TXT', 'AdmsReport_190126.TXT', 'AdmsReport_190127.TXT', 'AdmsReport_190128.TXT', 'AdmsReport_190129.TXT', 'AdmsReport_190130.TXT', 'AdmsReport_190131.TXT']"
   ]
  },
  {
   "cell_type": "code",
   "execution_count": 8,
   "metadata": {},
   "outputs": [],
   "source": [
    "def process(foldername, filelist):\n",
    "    oFile = open(foldername + 'merged.csv', 'w+')\n",
    "    for file in folder:\n",
    "        print(foldername + file)\n",
    "        ifile = open(foldername + file, 'r+')\n",
    "        for line in ifile:\n",
    "            splt = line.split(\",\")[:-1]\n",
    "            date = file[-10:-4]\n",
    "            date = date[-2:]+ \"-\" + date[2:4] + \"-20\" + date[:2]\n",
    "            splt.append(date)\n",
    "            oFile.write(\",\".join(splt) + '\\n')\n",
    "    oFile.close()"
   ]
  },
  {
   "cell_type": "code",
   "execution_count": 9,
   "metadata": {},
   "outputs": [
    {
     "name": "stdout",
     "output_type": "stream",
     "text": [
      "./Anees/AdmsReport_190101.TXT\n",
      "./Anees/AdmsReport_190102.TXT\n",
      "./Anees/AdmsReport_190103.TXT\n",
      "./Anees/AdmsReport_190104.TXT\n",
      "./Anees/AdmsReport_190105.TXT\n",
      "./Anees/AdmsReport_190106.TXT\n",
      "./Anees/AdmsReport_190107.TXT\n",
      "./Anees/AdmsReport_190108.TXT\n",
      "./Anees/AdmsReport_190109.TXT\n",
      "./Anees/AdmsReport_190110.TXT\n",
      "./Anees/AdmsReport_190111.TXT\n",
      "./Anees/AdmsReport_190112.TXT\n",
      "./Anees/AdmsReport_190113.TXT\n",
      "./Anees/AdmsReport_190114.TXT\n",
      "./Anees/AdmsReport_190115.TXT\n",
      "./Anees/AdmsReport_190116.TXT\n",
      "./Anees/AdmsReport_190117.TXT\n",
      "./Anees/AdmsReport_190118.TXT\n",
      "./Anees/AdmsReport_190119.TXT\n",
      "./Anees/AdmsReport_190120.TXT\n",
      "./Anees/AdmsReport_190121.TXT\n",
      "./Anees/AdmsReport_190122.TXT\n",
      "./Anees/AdmsReport_190123.TXT\n",
      "./Anees/AdmsReport_190124.TXT\n",
      "./Anees/AdmsReport_190125.TXT\n",
      "./Anees/AdmsReport_190126.TXT\n",
      "./Anees/AdmsReport_190127.TXT\n",
      "./Anees/AdmsReport_190128.TXT\n",
      "./Anees/AdmsReport_190129.TXT\n",
      "./Anees/AdmsReport_190130.TXT\n",
      "./Anees/AdmsReport_190131.TXT\n"
     ]
    }
   ],
   "source": [
    "for foldername, subfolders, filelist in os.walk(\"./Anees/\"):\n",
    "    process(foldername, filelist)"
   ]
  },
  {
   "cell_type": "code",
   "execution_count": null,
   "metadata": {},
   "outputs": [],
   "source": []
  }
 ],
 "metadata": {
  "kernelspec": {
   "display_name": "TensorFlow-GPU",
   "language": "python",
   "name": "tf-gpu"
  },
  "language_info": {
   "codemirror_mode": {
    "name": "ipython",
    "version": 3
   },
   "file_extension": ".py",
   "mimetype": "text/x-python",
   "name": "python",
   "nbconvert_exporter": "python",
   "pygments_lexer": "ipython3",
   "version": "3.6.8"
  }
 },
 "nbformat": 4,
 "nbformat_minor": 2
}
